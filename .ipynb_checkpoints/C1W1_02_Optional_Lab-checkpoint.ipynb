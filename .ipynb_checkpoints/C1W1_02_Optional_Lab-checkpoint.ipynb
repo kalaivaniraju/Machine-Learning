{
 "cells": [
  {
   "attachments": {},
   "cell_type": "markdown",
   "id": "a6f6593d",
   "metadata": {},
   "source": [
    "# Optional Lab: Model Representation\n",
    "<figure>\n",
    "    <img src='./images/C1_W1_L3_S1_Lecture_b.png', style='width:600px;height:200px'>\n",
    "</figure>"
   ]
  },
  {
   "cell_type": "markdown",
   "id": "351506ad",
   "metadata": {},
   "source": [
    "## Goals\n",
    "\n",
    "In this lab you will:\n",
    "- learn to implement the model $f_{w,b}$ for linear regression with one variable"
   ]
  },
  {
   "cell_type": "markdown",
   "id": "7ecdeba2",
   "metadata": {},
   "source": [
    "## Notation\n",
    "\n",
    "Here is the summary of some of the notation you will encounter:\n",
    "\n",
    "|General <img width=70px> <br> Notation <img style='width:70px'>|Description <img style=\"width:350px\">|Python (if applicable)|\n",
    "|---|---|---|\n",
    "|$a$|scalar, non bold||\n",
    "|$\\mathbf{a}$|vector, bold||\n",
    "|**Regression**|||\n",
    "|$\\mathbf{x}$|Training example feature values (in this lab, Size (1000 sq. ft.))|`x_train`|\n",
    "|$\\mathbf{y}$|Training example targets (in this lab, Price (1000s of dollars))|`y_train`|\n",
    "|$x^{(i)},y^{(i)}$|$i_{th}$ training example|`x_i`,`y_i`|\n",
    "|$m$|Number of training examples|`m`|\n",
    "|$w$|parameter:weight|`w`|\n",
    "|$b$|parameter:bias|`b`|\n",
    "|$f_{w,b}(x^{(i)})$|The result of the model evaluation at $x^{(i)}$ parameterised by $w, b: f_{w,b}(x^{(i)}) = wx^{(i)}+b$|`f_wb`|"
   ]
  },
  {
   "cell_type": "markdown",
   "id": "b7947649",
   "metadata": {},
   "source": [
    "## Tools\n",
    "In this lab you will make use of: \n",
    "- NumPy, a popular library for scientific computing\n",
    "- Matplotlib, a popular library for plotting data"
   ]
  },
  {
   "cell_type": "code",
   "execution_count": 67,
   "id": "5ed534f2",
   "metadata": {},
   "outputs": [],
   "source": [
    "import numpy as np\n",
    "import matplotlib.pyplot as plt\n",
    "plt.style.use('./utils/deeplearning.mplstyle')"
   ]
  },
  {
   "cell_type": "markdown",
   "id": "60a48c97",
   "metadata": {},
   "source": [
    "# Problem Statement\n",
    "<img align='left' src='./images/C1_W1_L3_S1_trainingdata.png' style='width:380px; padding:10px' >\n",
    "As in the lecture, you will use the motivating example of housing price prediction.\n",
    "This lab will use a simple data set with only two data points - a house with 1000 square feet(sqft) sold for \\$300,000 and a house with 2000 square feet sold for \\$500,000. These two points will constitute our data or training set. In this lab, the units of size are 1000 sqft and the units of price are 1000s of dollars.\n",
    "\n",
    "|Size (1000 sq. ft.)|Price (1000s of dollars)|\n",
    "|---|---|\n",
    "|1.0|300|\n",
    "|2.0|500|\n",
    "\n",
    "You would like to fit a linear regression model (shown above as the blue straight line) through these two points, so you can then predict price for other houses - say, a house with 1200 sqft."
   ]
  },
  {
   "cell_type": "markdown",
   "id": "837338d3",
   "metadata": {},
   "source": [
    "Please run the following code cell to create your `x_train` and `y_train` variables. The data is stored in one-dimensional NumPy arrays."
   ]
  },
  {
   "cell_type": "code",
   "execution_count": 68,
   "id": "df2467f5",
   "metadata": {},
   "outputs": [
    {
     "name": "stdout",
     "output_type": "stream",
     "text": [
      "x_train = [1. 2.]\n",
      "y_train = [300 500]\n"
     ]
    }
   ],
   "source": [
    "# x_train is the input feature variable (size in 1000 sq. ft.)\n",
    "# y_train is the target variable (price in 1000s of dollars)\n",
    "x_train = np.array([1.0, 2.0])\n",
    "y_train = np.array([300, 500])\n",
    "print(f\"x_train = {x_train}\")\n",
    "print(f\"y_train = {y_train}\")"
   ]
  },
  {
   "cell_type": "markdown",
   "id": "f4da9175",
   "metadata": {},
   "source": [
    ">**Note**: The course will frequently utilize the python 'f-string' output formatting described [here](https://docs.python.org/3/tutorial/inputoutput.html) when printing. The content between the curly braces is evaluated when producing the output."
   ]
  },
  {
   "cell_type": "markdown",
   "id": "d87911c7",
   "metadata": {},
   "source": [
    "### Number of training examples `m`\n",
    "You will use `m` to denote the number of training examples. Numpy arrays have a `.shape` parameter. `x_train.shape` returns a python tuple with an entry for each dimension. `x_train.shape[0]` is the length of the array and number of examples as shown below.\n",
    "\n"
   ]
  },
  {
   "cell_type": "code",
   "execution_count": 69,
   "id": "1c547a47",
   "metadata": {},
   "outputs": [
    {
     "name": "stdout",
     "output_type": "stream",
     "text": [
      "x_train.shape = (2,)\n",
      "Number of training examples (m) = 2\n"
     ]
    }
   ],
   "source": [
    "# m is the number of training examples\n",
    "print(f\"x_train.shape = {x_train.shape}\")\n",
    "m = x_train.shape[0]\n",
    "print(f\"Number of training examples (m) = {m}\")"
   ]
  },
  {
   "cell_type": "markdown",
   "id": "09678e6d",
   "metadata": {},
   "source": [
    "One can also use the Python `len()` function as shown below."
   ]
  },
  {
   "cell_type": "code",
   "execution_count": 70,
   "id": "073e802b",
   "metadata": {},
   "outputs": [
    {
     "name": "stdout",
     "output_type": "stream",
     "text": [
      "Number of training examples (m) = 2\n"
     ]
    }
   ],
   "source": [
    "# m is the number of training examples\n",
    "m = len(x_train)\n",
    "print(f\"Number of training examples (m) = {m}\")"
   ]
  },
  {
   "cell_type": "markdown",
   "id": "f0a31bac",
   "metadata": {},
   "source": [
    "### Training example `x_i, y_i`\n",
    "\n",
    "You will use (x$^{(i)}$, y$^{(i)}$) to denote the $i^{th}$ training example. Since Python is zero indexed, (x$^{(0)}$, y$^{(0)}$) is (1.0, 300.0) and (x$^{(1)}$, y$^{(1)}$) is (2.0, 500.0). \n",
    "\n",
    "To access a value in a Numpy array, one indexes the array with the desired offset. For example the syntax to access location zero of `x_train` is `x_train[0]`.\n",
    "Run the next code block below to get the $i^{th}$ training example."
   ]
  },
  {
   "cell_type": "code",
   "execution_count": 71,
   "id": "7b3cb0ed",
   "metadata": {},
   "outputs": [
    {
     "name": "stdout",
     "output_type": "stream",
     "text": [
      "(x^(i), y^(i)) = (1.0, 300)\n",
      "(x^(i), y^(i)) = (2.0, 500)\n"
     ]
    }
   ],
   "source": [
    "# i is the index of the x,y data sample\n",
    "for i in range(m):\n",
    "    x_i = x_train[i]\n",
    "    y_i = y_train[i]\n",
    "    print(f\"(x^(i), y^(i)) = {(x_i, y_i)}\")"
   ]
  },
  {
   "cell_type": "markdown",
   "id": "29d346da",
   "metadata": {},
   "source": [
    "You can plot these two points using the `scatter()` function in the `matplotlib` library, as shown in the cell below. \n",
    "- The function arguments `marker` and `c` show the points as red crosses (the default is blue dots).\n",
    "\n",
    "You can use other functions in the `matplotlib` library to set the title and labels to display"
   ]
  },
  {
   "cell_type": "code",
   "execution_count": 72,
   "id": "d86f9c28",
   "metadata": {},
   "outputs": [
    {
     "data": {
      "image/png": "[encoded data removed]",
      "text/plain": [
       "<Figure size 640x480 with 1 Axes>"
      ]
     },
     "metadata": {},
     "output_type": "display_data"
    }
   ],
   "source": [
    "# Visualise the data set\n",
    "# scatter plot with red cross markers\n",
    "plt.scatter(x_train, y_train, marker='x', c='r')\n",
    "# Add title to plot\n",
    "plt.title('Housing prices')\n",
    "# Add x and y axis labels\n",
    "plt.xlabel('Size of house (in 1000 sq. ft.)')\n",
    "plt.ylabel('Price of house (in 1000s of dollars)')\n",
    "# Display the plot\n",
    "plt.show()"
   ]
  },
  {
   "cell_type": "markdown",
   "id": "5797bea9",
   "metadata": {},
   "source": [
    "## Model function\n",
    "\n",
    "<img align=\"left\" src=\"./images/C1_W1_L3_S1_model.png\"     style=\" width:380px; padding: 10px; \" > As described in lecture, the model function for linear regression (which is a function that maps from `x` to `y`) is represented as \n",
    "\n",
    "$$ f_{w,b}(x^{(i)}) = wx^{(i)} + b \\tag{1}$$\n",
    "\n",
    "The formula above is how you can represent straight lines - different values of $w$ and $b$ give you different straight lines on the plot. <br/> <br/> <br/> <br/> <br/> \n",
    "\n",
    "Let's try to get a better intuition for this through the code blocks below. Let's start with $w = 100$ and $b = 100$. \n",
    "\n",
    "**Note: You can come back to this cell to adjust the model's w and b parameters**"
   ]
  },
  {
   "cell_type": "code",
   "execution_count": 73,
   "id": "b199e7da",
   "metadata": {},
   "outputs": [],
   "source": [
    "def evaluate_fx(w,x,b):\n",
    "    \"\"\"\n",
    "    Compute model output f_{w,b}^(x(i)) = wx^(i)+b\n",
    "    Arguments:\n",
    "    x (ndarray, (m,)) : input feature data, m datapoints\n",
    "    w,b (scalar) : model parameters\n",
    "    Returns:\n",
    "    y (ndarray, (m,)) : predicted target data\n",
    "    \"\"\"\n",
    "    m = len(x);\n",
    "    y_pred = np.zeros(m)\n",
    "    for i in range(m):\n",
    "        y_pred[i] = (w*x[i])+b\n",
    "    return y_pred"
   ]
  },
  {
   "cell_type": "code",
   "execution_count": 74,
   "id": "af359ed7",
   "metadata": {},
   "outputs": [],
   "source": [
    "def calc_cost(y_pred, y):\n",
    "    \"\"\"\n",
    "    Calculate the cost function J(w,b) by sum of least squares method:\n",
    "    1/2m * sum(square(y_pred(i)-y(i)))\n",
    "    Args:\n",
    "    y_pred, y (ndarray, (m,)): Array of predicted and actual target datapoints\n",
    "    Returns:\n",
    "    J (float): cost function calculation\n",
    "    \"\"\"\n",
    "    J = 0.\n",
    "    m = len(y_pred)\n",
    "    for i in range(m):\n",
    "        J = J+(y_pred[i]-y[i])**2\n",
    "    return (1/(2*m)*J)\n",
    "    "
   ]
  },
  {
   "cell_type": "code",
   "execution_count": 75,
   "id": "34befa17",
   "metadata": {},
   "outputs": [],
   "source": [
    "# test different values of w and b\n",
    "w_values = np.arange(0,1000,10)\n",
    "b_values = np.arange(0,500,10)\n",
    "J_wb = np.empty([len(w_values),len(b_values)])\n",
    "for i in range(len(w_values)):\n",
    "    w = w_values[i]\n",
    "    for j in range(len(b_values)):\n",
    "        b = b_values[j]\n",
    "        # store model output\n",
    "        y_pred = evaluate_fx(w, x_train, b)\n",
    "        # populate the cost function\n",
    "        J_wb[i,j] = calc_cost(y_pred, y_train)\n",
    "\n",
    "# Minimise the cost function J_wb\n",
    "optimal_indices = np.where(J_wb == np.amin(J_wb))\n",
    "# Find model parameter values\n",
    "w_model = w_values[optimal_indices[0]]\n",
    "b_model = b_values[optimal_indices[1]]"
   ]
  },
  {
   "cell_type": "code",
   "execution_count": 76,
   "id": "23ff5895",
   "metadata": {},
   "outputs": [
    {
     "data": {
      "image/png": "[encoded data removed]",
      "text/plain": [
       "<Figure size 640x480 with 1 Axes>"
      ]
     },
     "metadata": {},
     "output_type": "display_data"
    }
   ],
   "source": [
    "# Plot our linear regression\n",
    "plt.plot(x_train, evaluate_fx(w_model, x_train, b_model), label='Model fit')\n",
    "plt.scatter(x_train, y_train, marker='x', c='r', label='Data')\n",
    "plt.title(\"Housing prices\")\n",
    "plt.xlabel('House size (in 1000 sq. ft.)')\n",
    "plt.ylabel('House price (in 1000s of dollars)')\n",
    "plt.legend()\n",
    "plt.show()"
   ]
  },
  {
   "cell_type": "markdown",
   "id": "7869c21c",
   "metadata": {},
   "source": [
    "### Prediction\n",
    "Now that we have a model, we can use it to make our original prediction. Let's predict the price of a house with 1200 sqft. Since the units of $x$ are in 1000's of sqft, $x$ is 1.2.\n"
   ]
  },
  {
   "cell_type": "code",
   "execution_count": 78,
   "id": "ffe0fc7c",
   "metadata": {},
   "outputs": [
    {
     "name": "stdout",
     "output_type": "stream",
     "text": [
      "Predicted house price for 1200.0 sq. ft. is $340000.0\n"
     ]
    }
   ],
   "source": [
    "# Predict house price for size 1200 sq. ft.\n",
    "x_test = [1200./1000]\n",
    "y_test = evaluate_fx(w_model, x_test, b_model)\n",
    "print(f\"Predicted house price for {x_test[0]*1000} sq. ft. is ${y_test[0]*1000}\")"
   ]
  },
  {
   "cell_type": "markdown",
   "id": "32c77ac7",
   "metadata": {},
   "source": [
    "# Congratulations!\n",
    "In this lab you have learned:\n",
    " - Linear regression builds a model which establishes a relationship between features and targets\n",
    "     - In the example above, the feature was house size and the target was house price\n",
    "     - for simple linear regression, the model has two parameters $w$ and $b$ whose values are 'fit' using *training data*.\n",
    "     - once a model's parameters have been determined, the model can be used to make predictions on novel data."
   ]
  }
 ],
 "metadata": {
  "kernelspec": {
   "display_name": "Python 3 (ipykernel)",
   "language": "python",
   "name": "python3"
  },
  "language_info": {
   "codemirror_mode": {
    "name": "ipython",
    "version": 3
   },
   "file_extension": ".py",
   "mimetype": "text/x-python",
   "name": "python",
   "nbconvert_exporter": "python",
   "pygments_lexer": "ipython3",
   "version": "3.9.13"
  }
 },
 "nbformat": 4,
 "nbformat_minor": 5
}
